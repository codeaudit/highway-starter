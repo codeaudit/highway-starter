{
 "cells": [
  {
   "cell_type": "markdown",
   "metadata": {},
   "source": [
    "# Imports"
   ]
  },
  {
   "cell_type": "code",
   "execution_count": 1,
   "metadata": {
    "collapsed": false
   },
   "outputs": [],
   "source": [
    "from __future__ import absolute_import\n",
    "from __future__ import division\n",
    "from __future__ import print_function\n",
    "\n",
    "import time\n",
    "import h5py\n",
    "import tensorflow as tf\n",
    "\n",
    "# wget https://raw.githubusercontent.com/tensorflow/tensorflow/master/tensorflow/examples/tutorials/mnist/input_data.py\n",
    "import input_data"
   ]
  },
  {
   "cell_type": "markdown",
   "metadata": {},
   "source": [
    "# Layers"
   ]
  },
  {
   "cell_type": "code",
   "execution_count": 2,
   "metadata": {
    "collapsed": false
   },
   "outputs": [],
   "source": [
    "def dense_layer(x, input_size, output_size, activation):\n",
    "    W = tf.Variable(tf.truncated_normal([input_size, output_size], stddev=0.1), name='weight')\n",
    "    b = tf.Variable(tf.constant(0.1, shape=[output_size]), name='bias')\n",
    "    y = activation(tf.matmul(x, W) + b)\n",
    "    return y"
   ]
  },
  {
   "cell_type": "code",
   "execution_count": 3,
   "metadata": {
    "collapsed": true
   },
   "outputs": [],
   "source": [
    "def highway_layer(x, size, activation, carry_bias=-1.0):\n",
    "    W = tf.Variable(tf.truncated_normal([size, size], stddev=0.1), name='weight')\n",
    "    b = tf.Variable(tf.constant(0.1, shape=[size]), name='bias')\n",
    "\n",
    "    W_T = tf.Variable(tf.truncated_normal([size, size], stddev=0.1), name='weight_transform')\n",
    "    b_T = tf.Variable(tf.constant(carry_bias, shape=[size]), name='bias_transform')\n",
    "\n",
    "    H = activation(tf.matmul(x, W) + b, name='activation')\n",
    "    T = tf.sigmoid(tf.matmul(x, W_T) + b_T, name='transform_gate')\n",
    "    C = tf.sub(1.0, T, name=\"carry_gate\")\n",
    "\n",
    "    y = tf.add(tf.mul(H, T), tf.mul(x, C), 'y') # y = (H * T) + (x * C)\n",
    "    return y"
   ]
  },
  {
   "cell_type": "markdown",
   "metadata": {},
   "source": [
    "# Build Graph"
   ]
  },
  {
   "cell_type": "code",
   "execution_count": 4,
   "metadata": {
    "collapsed": true
   },
   "outputs": [],
   "source": [
    "sess, _ = tf.Session(), tf.Graph().as_default()"
   ]
  },
  {
   "cell_type": "code",
   "execution_count": 5,
   "metadata": {
    "collapsed": false
   },
   "outputs": [],
   "source": [
    "input_layer_size = 784\n",
    "hidden_layer_size = 50 # use ~71 for fully-connected (plain) layers, 50 for highway layers\n",
    "output_layer_size = 10\n",
    "\n",
    "x = tf.placeholder(\"float\", [None, input_layer_size], name=\"x\")\n",
    "y_ = tf.placeholder(\"float\", [None, output_layer_size], name=\"y_\")"
   ]
  },
  {
   "cell_type": "code",
   "execution_count": 6,
   "metadata": {
    "collapsed": false
   },
   "outputs": [],
   "source": [
    "layer_count = 100\n",
    "carry_bias_init = -2.0\n",
    "\n",
    "prev_y = None\n",
    "y = None\n",
    "for i in range(layer_count):\n",
    "    with tf.name_scope(\"layer{0}\".format(i)) as scope:\n",
    "        if i == 0: # first, input layer\n",
    "            prev_y = dense_layer(x, input_layer_size, hidden_layer_size, tf.nn.relu)\n",
    "        elif i == layer_count - 1: # last, output layer\n",
    "            y = dense_layer(prev_y, hidden_layer_size, output_layer_size, tf.nn.softmax)\n",
    "        else: # hidden layers\n",
    "            # prev_y = dense_layer(prev_y, hidden_layer_size, hidden_layer_size, tf.nn.relu)\n",
    "            prev_y = highway_layer(prev_y, hidden_layer_size, tf.nn.relu, carry_bias=carry_bias_init)"
   ]
  },
  {
   "cell_type": "code",
   "execution_count": 7,
   "metadata": {
    "collapsed": false
   },
   "outputs": [],
   "source": [
    "with tf.name_scope(\"loss\") as scope:\n",
    "    loss = -tf.reduce_sum(y_ * tf.log(y), name='loss')\n",
    "\n",
    "with tf.name_scope(\"train\") as scope:\n",
    "    global_step = tf.Variable(0, trainable=False, name='global_step')\n",
    "    train_step = tf.train.GradientDescentOptimizer(1e-2, name=\"GradientDescent\").minimize(loss, name=\"train_step\", global_step=global_step)\n",
    "\n",
    "with tf.name_scope(\"test\") as scope:\n",
    "    correct_prediction = tf.equal(tf.argmax(y, 1), tf.argmax(y_, 1))\n",
    "    accuracy = tf.reduce_mean(tf.cast(correct_prediction, \"float\"), name=\"accuracy\")"
   ]
  },
  {
   "cell_type": "code",
   "execution_count": 8,
   "metadata": {
    "collapsed": false
   },
   "outputs": [],
   "source": [
    "sess.run(tf.initialize_all_variables())"
   ]
  },
  {
   "cell_type": "markdown",
   "metadata": {},
   "source": [
    "# Save Graph\n",
    "\n",
    "This is important. In order to train the graph on Fomoro we must save it as a protobuf file."
   ]
  },
  {
   "cell_type": "code",
   "execution_count": 9,
   "metadata": {
    "collapsed": false
   },
   "outputs": [],
   "source": [
    "# Write out the graph as a protobuf file\n",
    "tf.train.write_graph(sess.graph_def, 'models/', 'highway.pb', as_text=False)"
   ]
  },
  {
   "cell_type": "markdown",
   "metadata": {},
   "source": [
    "# Load Dataset"
   ]
  },
  {
   "cell_type": "code",
   "execution_count": 10,
   "metadata": {
    "collapsed": false
   },
   "outputs": [
    {
     "name": "stdout",
     "output_type": "stream",
     "text": [
      "Extracting ../mnist/data/train-images-idx3-ubyte.gz\n",
      "Extracting ../mnist/data/train-labels-idx1-ubyte.gz\n",
      "Extracting ../mnist/data/t10k-images-idx3-ubyte.gz\n",
      "Extracting ../mnist/data/t10k-labels-idx1-ubyte.gz\n"
     ]
    }
   ],
   "source": [
    "mnist = input_data.read_data_sets(\"../mnist/data\", one_hot=True)"
   ]
  },
  {
   "cell_type": "markdown",
   "metadata": {},
   "source": [
    "# Train\n",
    "\n",
    "This is just for testing locally."
   ]
  },
  {
   "cell_type": "code",
   "execution_count": 11,
   "metadata": {
    "collapsed": true
   },
   "outputs": [],
   "source": [
    "epochs = 2000\n",
    "batch_size = 50\n",
    "checkpoint_interval = 100"
   ]
  },
  {
   "cell_type": "code",
   "execution_count": 12,
   "metadata": {
    "collapsed": false,
    "scrolled": false
   },
   "outputs": [
    {
     "name": "stdout",
     "output_type": "stream",
     "text": [
      "epoch 0, validation accuracy 0.0912\n",
      "epoch 100, validation accuracy 0.6684\n",
      "epoch 200, validation accuracy 0.8568\n",
      "epoch 300, validation accuracy 0.884\n",
      "epoch 400, validation accuracy 0.9078\n"
     ]
    },
    {
     "ename": "KeyboardInterrupt",
     "evalue": "",
     "output_type": "error",
     "traceback": [
      "\u001b[0;31m---------------------------------------------------------------------------\u001b[0m",
      "\u001b[0;31mKeyboardInterrupt\u001b[0m                         Traceback (most recent call last)",
      "\u001b[0;32m<ipython-input-12-e84613ed13c6>\u001b[0m in \u001b[0;36m<module>\u001b[0;34m()\u001b[0m\n\u001b[1;32m     11\u001b[0m     sess.run(train_step, feed_dict={\n\u001b[1;32m     12\u001b[0m         \u001b[0mx\u001b[0m\u001b[0;34m:\u001b[0m \u001b[0mbatch_xs\u001b[0m\u001b[0;34m,\u001b[0m\u001b[0;34m\u001b[0m\u001b[0m\n\u001b[0;32m---> 13\u001b[0;31m         \u001b[0my_\u001b[0m\u001b[0;34m:\u001b[0m \u001b[0mbatch_ys\u001b[0m\u001b[0;34m\u001b[0m\u001b[0m\n\u001b[0m\u001b[1;32m     14\u001b[0m     })\n\u001b[1;32m     15\u001b[0m \u001b[0;34m\u001b[0m\u001b[0m\n",
      "\u001b[0;32m/Users/jim/Downloads/highway-starter/.env/lib/python2.7/site-packages/tensorflow/python/client/session.pyc\u001b[0m in \u001b[0;36mrun\u001b[0;34m(self, fetches, feed_dict)\u001b[0m\n\u001b[1;32m    366\u001b[0m \u001b[0;34m\u001b[0m\u001b[0m\n\u001b[1;32m    367\u001b[0m     \u001b[0;31m# Run request and get response.\u001b[0m\u001b[0;34m\u001b[0m\u001b[0;34m\u001b[0m\u001b[0m\n\u001b[0;32m--> 368\u001b[0;31m     \u001b[0mresults\u001b[0m \u001b[0;34m=\u001b[0m \u001b[0mself\u001b[0m\u001b[0;34m.\u001b[0m\u001b[0m_do_run\u001b[0m\u001b[0;34m(\u001b[0m\u001b[0mtarget_list\u001b[0m\u001b[0;34m,\u001b[0m \u001b[0munique_fetch_targets\u001b[0m\u001b[0;34m,\u001b[0m \u001b[0mfeed_dict_string\u001b[0m\u001b[0;34m)\u001b[0m\u001b[0;34m\u001b[0m\u001b[0m\n\u001b[0m\u001b[1;32m    369\u001b[0m \u001b[0;34m\u001b[0m\u001b[0m\n\u001b[1;32m    370\u001b[0m     \u001b[0;31m# User may have fetched the same tensor multiple times, but we\u001b[0m\u001b[0;34m\u001b[0m\u001b[0;34m\u001b[0m\u001b[0m\n",
      "\u001b[0;32m/Users/jim/Downloads/highway-starter/.env/lib/python2.7/site-packages/tensorflow/python/client/session.pyc\u001b[0m in \u001b[0;36m_do_run\u001b[0;34m(self, target_list, fetch_list, feed_dict)\u001b[0m\n\u001b[1;32m    426\u001b[0m \u001b[0;34m\u001b[0m\u001b[0m\n\u001b[1;32m    427\u001b[0m       return tf_session.TF_Run(self._session, feed_dict, fetch_list,\n\u001b[0;32m--> 428\u001b[0;31m                                target_list)\n\u001b[0m\u001b[1;32m    429\u001b[0m \u001b[0;34m\u001b[0m\u001b[0m\n\u001b[1;32m    430\u001b[0m     \u001b[0;32mexcept\u001b[0m \u001b[0mtf_session\u001b[0m\u001b[0;34m.\u001b[0m\u001b[0mStatusNotOK\u001b[0m \u001b[0;32mas\u001b[0m \u001b[0me\u001b[0m\u001b[0;34m:\u001b[0m\u001b[0;34m\u001b[0m\u001b[0m\n",
      "\u001b[0;31mKeyboardInterrupt\u001b[0m: "
     ]
    }
   ],
   "source": [
    "for i in range(epochs):\n",
    "    batch_xs, batch_ys = mnist.train.next_batch(batch_size)\n",
    "\n",
    "    if i % checkpoint_interval == 0:\n",
    "        valid_accuracy = sess.run(accuracy, feed_dict={\n",
    "            x: mnist.validation.images,\n",
    "            y_: mnist.validation.labels\n",
    "        })\n",
    "        print(\"epoch %d, validation accuracy %g\" % (i, valid_accuracy))\n",
    "\n",
    "    sess.run(train_step, feed_dict={\n",
    "        x: batch_xs,\n",
    "        y_: batch_ys\n",
    "    })\n",
    "\n",
    "test_accuracy = sess.run(accuracy, feed_dict={\n",
    "    x: mnist.test.images,\n",
    "    y_: mnist.test.labels\n",
    "})\n",
    "print(\"test accuracy %g\" % test_accuracy)"
   ]
  },
  {
   "cell_type": "code",
   "execution_count": null,
   "metadata": {
    "collapsed": true
   },
   "outputs": [],
   "source": []
  }
 ],
 "metadata": {
  "kernelspec": {
   "display_name": "Python 2",
   "language": "python",
   "name": "python2"
  },
  "language_info": {
   "codemirror_mode": {
    "name": "ipython",
    "version": 2
   },
   "file_extension": ".py",
   "mimetype": "text/x-python",
   "name": "python",
   "nbconvert_exporter": "python",
   "pygments_lexer": "ipython2",
   "version": "2.7.10"
  }
 },
 "nbformat": 4,
 "nbformat_minor": 0
}
